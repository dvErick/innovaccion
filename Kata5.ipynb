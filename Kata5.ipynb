{
 "cells": [
  {
   "cell_type": "code",
   "execution_count": 3,
   "metadata": {},
   "outputs": [
    {
     "name": "stdout",
     "output_type": "stream",
     "text": [
      "Distancia entre planetas  628949330\n",
      "Distancia entre planetas medido en Km  390577533.93\n"
     ]
    }
   ],
   "source": [
    "tierra = 149597870\n",
    "jupiter = 778547200\n",
    "\n",
    "print('Distancia entre planetas ', (jupiter-tierra))\n",
    "print('Distancia entre planetas medido en Km ', ((jupiter-tierra)*0.621))"
   ]
  },
  {
   "cell_type": "code",
   "execution_count": 6,
   "metadata": {},
   "outputs": [
    {
     "name": "stdout",
     "output_type": "stream",
     "text": [
      "Distancia de los planetas en kms 3\n",
      "Distancia de lois planetas en millas 1.863\n"
     ]
    }
   ],
   "source": [
    "planeta_1 = input('Introduce la distancia del sol para el primer planeta')\n",
    "planeta_2 = input('Introduce la distancia del sol para el segundo planeta')\n",
    "\n",
    "planeta_1 = int(planeta_1)\n",
    "planeta_2 = int (planeta_2)\n",
    "\n",
    "distanciaPlanetas = abs(planeta_2-planeta_1)\n",
    "distanciaMillas =(distanciaPlanetas*0.621)\n",
    "print('Distancia de los planetas en kms', distanciaPlanetas)\n",
    "print('Distancia de lois planetas en millas',  distanciaMillas)\n"
   ]
  },
  {
   "cell_type": "markdown",
   "metadata": {},
   "source": []
  }
 ],
 "metadata": {
  "interpreter": {
   "hash": "0720c195d99ad40c32ac7c180aea03db74084f0243619dffec12ba2868ac5509"
  },
  "kernelspec": {
   "display_name": "Python 3.10.2 64-bit",
   "language": "python",
   "name": "python3"
  },
  "language_info": {
   "codemirror_mode": {
    "name": "ipython",
    "version": 3
   },
   "file_extension": ".py",
   "mimetype": "text/x-python",
   "name": "python",
   "nbconvert_exporter": "python",
   "pygments_lexer": "ipython3",
   "version": "3.10.2"
  },
  "orig_nbformat": 4
 },
 "nbformat": 4,
 "nbformat_minor": 2
}
