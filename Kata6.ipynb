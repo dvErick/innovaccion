{
 "cells": [
  {
   "cell_type": "code",
   "execution_count": 7,
   "metadata": {},
   "outputs": [
    {
     "name": "stdout",
     "output_type": "stream",
     "text": [
      "Mercurio\n",
      "Mercurio\n",
      "Venus\n",
      "Tierra\n",
      "Marte\n",
      "Jupiter\n",
      "Saturno\n",
      "Urano\n",
      "Neptuno\n",
      "Hay 8 planetas\n",
      "pluton es el ultimo planeta\n"
     ]
    }
   ],
   "source": [
    "lista_planetas = ['Mercurio', 'Venus', 'Tierra', 'Marte', 'Jupiter', 'Saturno', 'Urano', 'Neptuno']\n",
    "\n",
    "print(lista_planetas[0])\n",
    "\n",
    "for n in lista_planetas:\n",
    "    print(n)\n",
    "\n",
    "print('Hay', len(lista_planetas), 'planetas')\n",
    "\n",
    "lista_planetas.append('pluton')\n",
    "\n",
    "print(lista_planetas[-1], 'es el ultimo planeta')\n",
    "\n"
   ]
  },
  {
   "cell_type": "code",
   "execution_count": 11,
   "metadata": {},
   "outputs": [
    {
     "name": "stdout",
     "output_type": "stream",
     "text": [
      "1\n",
      "Los planetas más cercanos al sol que Venus\n",
      "['Mercury']\n",
      "Los planetas más alejados al sol que Venus\n",
      "['Earth', 'Mars', 'Jupiter', 'Saturn', 'Neptune']\n"
     ]
    }
   ],
   "source": [
    "planets = ['Mercury', 'Venus', 'Earth', 'Mars', 'Jupiter', 'Saturn', 'Neptune']\n",
    "\n",
    "planeta = input('Introduce el nombre de un planeta(Iniciando con letra mayúscula')\n",
    "\n",
    "planet_index = planets.index(planeta)\n",
    "\n",
    "print(planet_index)\n",
    "\n",
    "print('Los planetas más cercanos al sol que ' + planeta)\n",
    "print(planets[0:planet_index])\n",
    "\n",
    "print('Los planetas más alejados al sol que ' + planeta)\n",
    "print(planets[planet_index + 1:])"
   ]
  }
 ],
 "metadata": {
  "interpreter": {
   "hash": "0720c195d99ad40c32ac7c180aea03db74084f0243619dffec12ba2868ac5509"
  },
  "kernelspec": {
   "display_name": "Python 3.10.2 64-bit",
   "language": "python",
   "name": "python3"
  },
  "language_info": {
   "codemirror_mode": {
    "name": "ipython",
    "version": 3
   },
   "file_extension": ".py",
   "mimetype": "text/x-python",
   "name": "python",
   "nbconvert_exporter": "python",
   "pygments_lexer": "ipython3",
   "version": "3.10.2"
  },
  "orig_nbformat": 4
 },
 "nbformat": 4,
 "nbformat_minor": 2
}
