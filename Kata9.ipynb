{
 "cells": [
  {
   "cell_type": "code",
   "execution_count": 6,
   "metadata": {},
   "outputs": [
    {
     "name": "stdout",
     "output_type": "stream",
     "text": [
      "\n",
      "Promedio: 78.33333333333333\n",
      "Tanque 1: 80%\n",
      "Tanque 2: 70%\n",
      "Tanque 3: 85%\n",
      "\n"
     ]
    }
   ],
   "source": [
    "def reporte(tanque1, tanque2, tanque3):\n",
    "    return f\"\"\"\n",
    "Promedio: {promedio(tanque1,tanque2,tanque3)}\n",
    "Tanque 1: {tanque1}%\n",
    "Tanque 2: {tanque2}%\n",
    "Tanque 3: {tanque3}%\n",
    "\"\"\"\n",
    "\n",
    "def promedio(tanque1,tanque2,tanque3):\n",
    "    promedio= (tanque1+tanque2+tanque3)/3\n",
    "    return promedio\n",
    "\n",
    "print(reporte(80,70,85))"
   ]
  },
  {
   "cell_type": "code",
   "execution_count": 11,
   "metadata": {},
   "outputs": [
    {
     "name": "stdout",
     "output_type": "stream",
     "text": [
      "\n",
      "           Destino luna\n",
      "           Tiempo de vuelo 76 minutos\n",
      "           Total de combustiblre 500000 galones\n",
      "    principal tank: 200000 galones sobrantes\n",
      "externo tank: 300000 galones sobrantes\n",
      "\n"
     ]
    }
   ],
   "source": [
    "def informe(destino, *minutos, **reserva_combustible):\n",
    "    reporte =f\"\"\"\n",
    "           Destino {destino}\n",
    "           Tiempo de vuelo {sum(minutos)} minutos\n",
    "           Total de combustiblre {sum(reserva_combustible.values())} galones\n",
    "    \"\"\"\n",
    "    for tanque, gallones in reserva_combustible.items():\n",
    "        reporte += f\"{tanque} tank: {gallones} galones sobrantes\\n\"\n",
    "    return reporte\n",
    "\n",
    "print(informe(\"luna\",10,15,51, principal=200000, externo=300000))"
   ]
  }
 ],
 "metadata": {
  "interpreter": {
   "hash": "0720c195d99ad40c32ac7c180aea03db74084f0243619dffec12ba2868ac5509"
  },
  "kernelspec": {
   "display_name": "Python 3.10.2 64-bit",
   "language": "python",
   "name": "python3"
  },
  "language_info": {
   "codemirror_mode": {
    "name": "ipython",
    "version": 3
   },
   "file_extension": ".py",
   "mimetype": "text/x-python",
   "name": "python",
   "nbconvert_exporter": "python",
   "pygments_lexer": "ipython3",
   "version": "3.10.2"
  },
  "orig_nbformat": 4
 },
 "nbformat": 4,
 "nbformat_minor": 2
}
